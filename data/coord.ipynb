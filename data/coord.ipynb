{
 "cells": [
  {
   "cell_type": "code",
   "execution_count": 37,
   "metadata": {},
   "outputs": [],
   "source": [
    "import cv2\n",
    "import numpy as np\n",
    "import matplotlib.pyplot as plt\n",
    "import pandas as pd"
   ]
  },
  {
   "cell_type": "code",
   "execution_count": 38,
   "metadata": {},
   "outputs": [],
   "source": [
    "def coord(image):\n",
    "    image = cv2.imread(image,cv2.IMREAD_UNCHANGED)\n",
    "    # Ensure image has an alpha channel\n",
    "    if image.shape[2] < 4:\n",
    "        raise ValueError(\"Image does not have an alpha channel\")\n",
    "\n",
    "    # Extract the alpha channel\n",
    "    alpha = image[:, :, 3]\n",
    "\n",
    "    # Find all non-transparent pixels\n",
    "    coords = cv2.findNonZero(alpha)  # Returns coordinates of non-zero (non-transparent) pixels\n",
    "\n",
    "    # Get bounding box for non-transparent region\n",
    "    x, y, w, h = cv2.boundingRect(coords)\n",
    "\n",
    "    return x,y,w,h"
   ]
  },
  {
   "cell_type": "code",
   "execution_count": 39,
   "metadata": {},
   "outputs": [
    {
     "name": "stdout",
     "output_type": "stream",
     "text": [
      "princess\n"
     ]
    }
   ],
   "source": [
    "troops = [\"princess\"]\n",
    "data = pd.read_csv(\"image_centers/troops_center.csv\")\n",
    "\n",
    "for troop in troops:\n",
    "    print(troop)\n",
    "    image = f'images/troops/Blue/{troop}_run_n_6.png'\n",
    "    x,y,w,h = coord(image)\n",
    "    new_row = pd.DataFrame({'troop': [troop], 'x': [x], \"y\" : [y], \"w\": [w], \"h\" : [h]})\n",
    "    data = pd.concat([data, new_row], ignore_index=True)\n",
    "data.to_csv(\"image_centers/troops_center.csv\",index=False)"
   ]
  },
  {
   "cell_type": "code",
   "execution_count": 12,
   "metadata": {},
   "outputs": [
    {
     "ename": "error",
     "evalue": "OpenCV(4.9.0) :-1: error: (-5:Bad argument) in function 'circle'\n> Overload resolution failed:\n>  - img is not a numpy array, neither a scalar\n>  - Expected Ptr<cv::UMat> for argument 'img'\n",
     "output_type": "error",
     "traceback": [
      "\u001b[0;31m---------------------------------------------------------------------------\u001b[0m",
      "\u001b[0;31merror\u001b[0m                                     Traceback (most recent call last)",
      "Cell \u001b[0;32mIn[12], line 1\u001b[0m\n\u001b[0;32m----> 1\u001b[0m \u001b[43mcv2\u001b[49m\u001b[38;5;241;43m.\u001b[39;49m\u001b[43mcircle\u001b[49m\u001b[43m(\u001b[49m\u001b[43mimage\u001b[49m\u001b[43m,\u001b[49m\u001b[43m \u001b[49m\u001b[43m(\u001b[49m\u001b[43mx\u001b[49m\u001b[43m,\u001b[49m\u001b[43my\u001b[49m\u001b[43m)\u001b[49m\u001b[43m,\u001b[49m\u001b[43m \u001b[49m\u001b[38;5;241;43m2\u001b[39;49m\u001b[43m,\u001b[49m\u001b[43m \u001b[49m\u001b[43m(\u001b[49m\u001b[38;5;241;43m255\u001b[39;49m\u001b[43m,\u001b[49m\u001b[38;5;241;43m0\u001b[39;49m\u001b[43m,\u001b[49m\u001b[38;5;241;43m0\u001b[39;49m\u001b[43m)\u001b[49m\u001b[43m,\u001b[49m\u001b[43m \u001b[49m\u001b[38;5;241;43m2\u001b[39;49m\u001b[43m)\u001b[49m\n\u001b[1;32m      2\u001b[0m image_rgb \u001b[38;5;241m=\u001b[39mcv2\u001b[38;5;241m.\u001b[39mcvtColor(image, cv2\u001b[38;5;241m.\u001b[39mCOLOR_BGR2RGB)\n\u001b[1;32m      3\u001b[0m plt\u001b[38;5;241m.\u001b[39mimshow(image_rgb)\n",
      "\u001b[0;31merror\u001b[0m: OpenCV(4.9.0) :-1: error: (-5:Bad argument) in function 'circle'\n> Overload resolution failed:\n>  - img is not a numpy array, neither a scalar\n>  - Expected Ptr<cv::UMat> for argument 'img'\n"
     ]
    }
   ],
   "source": [
    "cv2.circle(image, (x,y), 2, (255,0,0), 2)\n",
    "image_rgb =cv2.cvtColor(image, cv2.COLOR_BGR2RGB)\n",
    "plt.imshow(image_rgb)"
   ]
  },
  {
   "cell_type": "code",
   "execution_count": 7,
   "metadata": {},
   "outputs": [
    {
     "data": {
      "text/plain": [
       "x     78\n",
       "y    145\n",
       "w    114\n",
       "h     98\n",
       "Name: giant, dtype: int64"
      ]
     },
     "execution_count": 7,
     "metadata": {},
     "output_type": "execute_result"
    }
   ],
   "source": [
    "data = pd.read_csv(\"/Users/tusharsingharoy/coderoyale/data/image_centers/troops_center.csv\",index_col = 'troop')\n",
    "data.loc['giant']"
   ]
  },
  {
   "cell_type": "code",
   "execution_count": 1,
   "metadata": {},
   "outputs": [],
   "source": [
    "import os\n",
    "from PIL import Image, ImageFilter\n",
    "def preprocess(input_path,output_path):\n",
    "    image = Image.open(input_path).convert(\"RGBA\")  # Preserve transparency\n",
    "\n",
    "    bbox = image.getbbox()\n",
    "    if not bbox:\n",
    "        raise ValueError(\"No bounding box found. Ensure the image is not fully transparent.\")\n",
    "\n",
    "    #get the last number of the bbox\n",
    "    image_last_co= bbox[-1]\n",
    "\n",
    "    # Create a black shadow based on the entire image (no cropping)\n",
    "    shadow = Image.new(\"RGBA\", image.size, (0, 0, 0, 120))  # Fully black shadow\n",
    "    shadow_mask = image.split()[3]  # Use the alpha channel of the original image\n",
    "\n",
    "    # Stretch the shadow downward (project it on the ground)\n",
    "    shadow_width = image.width\n",
    "    shadow_height = int(image.height*0.3)   # Adjust how far the shadow extends\n",
    "    shadow = Image.new(\"RGBA\", (shadow_width, shadow_height), (0, 0, 0, 120))  # Black semi-transparent shadow\n",
    "    shadow_mask = image.split()[3].resize((shadow_width, shadow_height))  # Resize mask to match shadow\n",
    "\n",
    "    # Flip the shadow vertically\n",
    "    shadow = shadow.transpose(Image.FLIP_TOP_BOTTOM)\n",
    "    shadow_mask = shadow_mask.transpose(Image.FLIP_TOP_BOTTOM)\n",
    "\n",
    "    # Apply blur to soften the shadow\n",
    "    shadow = shadow.filter(ImageFilter.GaussianBlur(10))\n",
    "    # Keep the new image size exactly the same as the original\n",
    "    new_image = Image.new(\"RGBA\", (image.width,int(image.height*1.3)), (255, 255, 255, 0))  # No extra height added\n",
    "    shadow_bbox = shadow.getbbox()\n",
    "\n",
    "\n",
    "    # get the last coordinate of the shadow\n",
    "    shadow_last_co = shadow_bbox[-1]\n",
    "    diff=shadow_last_co-image_last_co\n",
    "\n",
    "\n",
    "    # Positioning\n",
    "    image_x = 0\n",
    "    image_y = 0  # Keep the original image in its position\n",
    "    shadow_x = 0  # Align shadow with image\n",
    "    shadow_y = int(image.height*0.2)-diff# Slight overlap to blend smoothly\n",
    "\n",
    "    # Paste the shadow first\n",
    "    new_image.paste(shadow, (shadow_x, shadow_y), mask=shadow_mask)\n",
    "\n",
    "    new_image.save(output_path)\n",
    "\n",
    "def shadow():\n",
    "\n",
    "    # Define input and output directories\n",
    "    input_ = \"/Users/tusharsingharoy/coderoyale/data/images/troops/\"\n",
    "    output = \"/Users/tusharsingharoy/coderoyale/data/images/troops/\"\n",
    "    input_dir2 = '/Users/tusharsingharoy/coderoyale/data/images/tower/Blue/BlueTower.png'\n",
    "    output_dir2 = '/Users/tusharsingharoy/coderoyale/data/images/tower/Blue/BlueTower_shadow.png'\n",
    "    input_dir3 = '/Users/tusharsingharoy/coderoyale/data/images/tower/Red/RedTower.png'\n",
    "    output_dir3 = '/Users/tusharsingharoy/coderoyale/data/images/tower/Red/RedTower_shadow.png'\n",
    "    \n",
    "    for dire in [\"Red\",\"Blue\"]:\n",
    "        input_dir = input_ + dire\n",
    "        output_dir = output + dire + \"_shadows\"\n",
    "        # Loop through all files in the input directory\n",
    "        for filename in os.listdir(input_dir):\n",
    "            input_path = os.path.join(input_dir, filename)\n",
    "            output_path = os.path.join(output_dir, filename)\n",
    "            preprocess(input_path,output_path)\n",
    "    preprocess(input_dir2,output_dir2)\n",
    "    preprocess(input_dir3,output_dir3)\n",
    "\n",
    "            \n",
    "shadow()\n"
   ]
  },
  {
   "cell_type": "code",
   "execution_count": null,
   "metadata": {},
   "outputs": [],
   "source": []
  }
 ],
 "metadata": {
  "kernelspec": {
   "display_name": "Python 3",
   "language": "python",
   "name": "python3"
  },
  "language_info": {
   "codemirror_mode": {
    "name": "ipython",
    "version": 3
   },
   "file_extension": ".py",
   "mimetype": "text/x-python",
   "name": "python",
   "nbconvert_exporter": "python",
   "pygments_lexer": "ipython3",
   "version": "3.11.4"
  }
 },
 "nbformat": 4,
 "nbformat_minor": 2
}
